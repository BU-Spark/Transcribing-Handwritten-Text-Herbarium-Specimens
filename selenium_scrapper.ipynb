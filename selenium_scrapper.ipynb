{
 "cells": [
  {
   "cell_type": "code",
   "execution_count": 23,
   "metadata": {},
   "outputs": [],
   "source": [
    "import selenium\n",
    "import re\n",
    "from selenium import webdriver\n",
    "import pandas as pd\n",
    "import urllib.request\n",
    "\n",
    "wd = webdriver.Chrome('C:\\chromedriver_win32\\chromedriver')\n",
    "wd2 = webdriver.Chrome('C:\\chromedriver_win32\\chromedriver')"
   ]
  },
  {
   "cell_type": "code",
   "execution_count": 24,
   "metadata": {},
   "outputs": [],
   "source": [
    "#wd.get('https://www.idigbio.org/portal/search/')\n",
    "wd.get('https://kiki.huh.harvard.edu/databases/specimen_search.php?start=0&family=&gen=Trillium&sp=&infra=&author=&year=&typestatus=&cltr=&collectornumber=&country=United+States+of+America&yearcollected=&state=&county=&loc=&substrate=&habitat=&host=&hasimage=on&provenance=&barcode=')\n"
   ]
  },
  {
   "cell_type": "code",
   "execution_count": 25,
   "metadata": {},
   "outputs": [
    {
     "name": "stdout",
     "output_type": "stream",
     "text": [
      "925\n"
     ]
    }
   ],
   "source": [
    "filename = []\n",
    "image_link = []\n",
    "\n",
    "elems = wd.find_elements_by_tag_name('a')\n",
    "\n",
    "count = 0\n",
    "for elem in elems:\n",
    "    href = elem.get_attribute('href')\n",
    "    if href is not None:\n",
    "        if \"mode\" in href:\n",
    "            name = elem.text\n",
    "            wd2.get(href)\n",
    "            link = wd2.find_elements_by_xpath(\"//*[contains(text(), 'Full Quality')]\")[0].get_attribute('href')\n",
    "            filename += [name]\n",
    "            image_link += [link]\n",
    "            count+=1\n",
    "            #urllib.request.urlretrieve(link, name.replace(\": \", \"_\") + \".jpg\")\n",
    "print(count)"
   ]
  },
  {
   "cell_type": "code",
   "execution_count": 26,
   "metadata": {},
   "outputs": [],
   "source": [
    "d = {'filename': filename, 'image_link': image_link}\n",
    "df = pd.DataFrame(data=d)\n",
    "df.to_csv('Trillium.csv', index=False, encoding='utf-8')"
   ]
  }
 ],
 "metadata": {
  "kernelspec": {
   "display_name": "Python 3",
   "language": "python",
   "name": "python3"
  },
  "language_info": {
   "codemirror_mode": {
    "name": "ipython",
    "version": 3
   },
   "file_extension": ".py",
   "mimetype": "text/x-python",
   "name": "python",
   "nbconvert_exporter": "python",
   "pygments_lexer": "ipython3",
   "version": "3.8.3"
  }
 },
 "nbformat": 4,
 "nbformat_minor": 4
}
